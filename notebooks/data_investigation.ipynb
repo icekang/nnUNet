{
 "cells": [
  {
   "cell_type": "markdown",
   "metadata": {},
   "source": [
    "# Test data investigation\n",
    "There were drastic difference between the train/val and test metrics. Test set contrains 2 cases where one gives comparable results to the val set and the other one is much worse. Let's investigate the test set to understand the difference."
   ]
  },
  {
   "cell_type": "code",
   "execution_count": null,
   "metadata": {},
   "outputs": [],
   "source": [
    "import torchio as tio\n",
    "import numpy as np\n",
    "import matplotlib.pyplot as plt\n",
    "\n",
    "\n",
    "def show_test_case(i: int, fold = 0, figsize=None):\n",
    "    test_cases = ['706-005', '707-003']\n",
    "    test_case = test_cases[i]\n",
    "    subject_a = tio.Subject(\n",
    "        image=tio.ScalarImage(f'/storage_bizon/naravich/nnUNet_Datasets/nnUNet_raw/Dataset301_Calcium_OCT/imagesTs/{test_case}_0000.nii.gz'),\n",
    "        unet3d=tio.ScalarImage(f'/storage_bizon/naravich/nnUNet_Datasets/nnUNet_results/Dataset301_Calcium_OCT/nnUNetTrainer__nnUNetPlans__3d_fullres/fold_{fold}_test/{test_case}.nii.gz'),\n",
    "        unet2d=tio.ScalarImage(f'/storage_bizon/naravich/nnUNet_Datasets/nnUNet_results/Dataset301_Calcium_OCT/nnUNetTrainer__nnUNetPlans__2d/fold_{fold}_test/{test_case}.nii.gz'),\n",
    "        gt=tio.ScalarImage(f'/storage_bizon/naravich/nnUNet_Datasets/nnUNet_raw/Dataset301_Calcium_OCT/labelsTs/{test_case}.nii.gz')\n",
    "\n",
    "    )\n",
    "    subject_a.plot(figsize=figsize)\n",
    "    return subject_a"
   ]
  },
  {
   "cell_type": "code",
   "execution_count": null,
   "metadata": {},
   "outputs": [],
   "source": [
    "show_test_case(0)"
   ]
  },
  {
   "cell_type": "code",
   "execution_count": null,
   "metadata": {},
   "outputs": [],
   "source": [
    "subject_1 = show_test_case(1, figsize=(15, 15))"
   ]
  },
  {
   "cell_type": "code",
   "execution_count": null,
   "metadata": {},
   "outputs": [],
   "source": [
    "np.unique(subject_1.gt.numpy())"
   ]
  },
  {
   "cell_type": "markdown",
   "metadata": {},
   "source": [
    "## Let's check all the labels \n"
   ]
  },
  {
   "cell_type": "code",
   "execution_count": null,
   "metadata": {},
   "outputs": [],
   "source": [
    "from pathlib import Path\n",
    "\n",
    "\n",
    "def show_all_labels(figsize=None, plot=True):\n",
    "    train_dir = Path('/storage_bizon/naravich/nnUNet_Datasets/nnUNet_raw/Dataset301_Calcium_OCT/imagesTr')\n",
    "    train_label_dir = Path('/storage_bizon/naravich/nnUNet_Datasets/nnUNet_raw/Dataset301_Calcium_OCT/labelsTr')\n",
    "    test_dir = Path('/storage_bizon/naravich/nnUNet_Datasets/nnUNet_raw/Dataset301_Calcium_OCT/imagesTs')\n",
    "    test_label_dir = Path('/storage_bizon/naravich/nnUNet_Datasets/nnUNet_raw/Dataset301_Calcium_OCT/labelsTs')\n",
    "    train_cases = [case.stem[:-4] for case in train_label_dir.glob('*.nii.gz')]\n",
    "    test_cases = [case.stem[:-4] for case in test_label_dir.glob('*.nii.gz')]\n",
    "    case2path = {f'tr_{case}': train_label_dir/f'{case}.nii.gz' for case in train_cases}\n",
    "    case2path.update({f'ts_{case}': test_label_dir / f'{case}.nii.gz' for case in test_cases})\n",
    "    subject_a = tio.Subject(\n",
    "        **{case: tio.LabelMap(path) for case, path in case2path.items()}\n",
    "    )\n",
    "    subject_a.plot(figsize=figsize)\n",
    "    return subject_a\n",
    "\n",
    "\n",
    "def show_all_images(figsize=None):\n",
    "    train_dir = Path('/storage_bizon/naravich/nnUNet_Datasets/nnUNet_raw/Dataset301_Calcium_OCT/imagesTr')\n",
    "    train_label_dir = Path('/storage_bizon/naravich/nnUNet_Datasets/nnUNet_raw/Dataset301_Calcium_OCT/labelsTr')\n",
    "    test_dir = Path('/storage_bizon/naravich/nnUNet_Datasets/nnUNet_raw/Dataset301_Calcium_OCT/imagesTs')\n",
    "    test_label_dir = Path('/storage_bizon/naravich/nnUNet_Datasets/nnUNet_raw/Dataset301_Calcium_OCT/labelsTs')\n",
    "    train_cases = [case.stem[:-4] for case in train_label_dir.glob('*.nii.gz')]\n",
    "    test_cases = [case.stem[:-4] for case in test_label_dir.glob('*.nii.gz')]\n",
    "    case2path = {f'tr_{case}': train_dir/f'{case}_0000.nii.gz' for case in train_cases}\n",
    "    case2path.update({f'ts_{case}': test_dir / f'{case}_0000.nii.gz' for case in test_cases})\n",
    "    subject_a = tio.Subject(\n",
    "        **{case: tio.ScalarImage(path) for case, path in case2path.items()}\n",
    "    )\n",
    "    subject_a.plot(figsize=figsize)\n",
    "    return subject_a\n",
    "\n",
    "def show_all_images(figsize=None):\n",
    "    train_dir = Path('/storage_bizon/naravich/nnUNet_Datasets/nnUNet_raw/Dataset301_Calcium_OCT/imagesTr')\n",
    "    train_label_dir = Path('/storage_bizon/naravich/nnUNet_Datasets/nnUNet_raw/Dataset301_Calcium_OCT/labelsTr')\n",
    "    test_dir = Path('/storage_bizon/naravich/nnUNet_Datasets/nnUNet_raw/Dataset301_Calcium_OCT/imagesTs')\n",
    "    test_label_dir = Path('/storage_bizon/naravich/nnUNet_Datasets/nnUNet_raw/Dataset301_Calcium_OCT/labelsTs')\n",
    "    train_cases = [case.stem[:-4] for case in train_label_dir.glob('*.nii.gz')]\n",
    "    test_cases = [case.stem[:-4] for case in test_label_dir.glob('*.nii.gz')]\n",
    "    case2path = list((f'tr_{case}', train_dir/f'{case}_0000.nii.gz') for case in train_cases)\n",
    "    case2path += list((f'ts_{case}', test_dir / f'{case}_0000.nii.gz') for case in test_cases)\n",
    "\n",
    "    case2path_label = list((f'trl_{case}', train_label_dir/f'{case}.nii.gz') for case in train_cases)\n",
    "    case2path_label += list((f'tsl_{case}', test_label_dir / f'{case}.nii.gz') for case in  test_cases)\n",
    "\n",
    "    merged = dict()\n",
    "    for image, label in zip(case2path, case2path_label):\n",
    "        merged[image[0]] = tio.ScalarImage(image[1])\n",
    "        merged[label[0]] = tio.LabelMap(label[1])\n",
    "    subject_a = tio.Subject(\n",
    "        **merged\n",
    "    )\n",
    "    subject_a.plot(figsize=figsize)\n",
    "    return subject_a"
   ]
  },
  {
   "cell_type": "code",
   "execution_count": null,
   "metadata": {},
   "outputs": [],
   "source": [
    "show_all_labels(figsize=(40, 20))"
   ]
  },
  {
   "cell_type": "code",
   "execution_count": null,
   "metadata": {},
   "outputs": [],
   "source": [
    "show_all_images(figsize=(40, 20))\n"
   ]
  },
  {
   "cell_type": "code",
   "execution_count": null,
   "metadata": {},
   "outputs": [],
   "source": [
    "show_all_images(figsize=(80, 20))"
   ]
  },
  {
   "cell_type": "markdown",
   "metadata": {},
   "source": [
    "# Fold_3 Investigation\n",
    "- Fold 3 has the worst performance in the test set. Let's investigate the test set to understand the difference."
   ]
  },
  {
   "cell_type": "code",
   "execution_count": null,
   "metadata": {},
   "outputs": [],
   "source": [
    "def show_fold_3(figsize=None):\n",
    "    prediction_3d_dir = Path('/storage_bizon/naravich/nnUNet_Datasets/nnUNet_results/Dataset301_Calcium_OCT/nnUNetTrainer__nnUNetPlans__3d_fullres/fold_3/validation/')\n",
    "    prediction_2d_dir = Path('/storage_bizon/naravich/nnUNet_Datasets/nnUNet_results/Dataset301_Calcium_OCT/nnUNetTrainer__nnUNetPlans__2d/fold_3/validation/')\n",
    "    train_dir = Path('/storage_bizon/naravich/nnUNet_Datasets/nnUNet_raw/Dataset301_Calcium_OCT/imagesTr')\n",
    "    train_label_dir = Path('/storage_bizon/naravich/nnUNet_Datasets/nnUNet_raw/Dataset301_Calcium_OCT/labelsTr')\n",
    "    subject_a = tio.Subject(\n",
    "        image=tio.ScalarImage(train_dir / '701-013_0000.nii.gz'),\n",
    "        unet3d=tio.LabelMap(prediction_3d_dir / '701-013.nii.gz'),\n",
    "        unet2d=tio.LabelMap(prediction_2d_dir / '701-013.nii.gz'),\n",
    "        gt=tio.LabelMap(train_label_dir / '701-013.nii.gz')\n",
    "\n",
    "    )\n",
    "    subject_a.plot(figsize=figsize)\n",
    "    return subject_a\n",
    "show_fold_3(figsize=(15, 15))"
   ]
  }
 ],
 "metadata": {
  "kernelspec": {
   "display_name": "nn_UNet",
   "language": "python",
   "name": "python3"
  },
  "language_info": {
   "codemirror_mode": {
    "name": "ipython",
    "version": 3
   },
   "file_extension": ".py",
   "mimetype": "text/x-python",
   "name": "python",
   "nbconvert_exporter": "python",
   "pygments_lexer": "ipython3",
   "version": "3.12.2"
  }
 },
 "nbformat": 4,
 "nbformat_minor": 2
}
