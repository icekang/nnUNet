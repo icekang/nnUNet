{
 "cells": [
  {
   "cell_type": "code",
   "execution_count": 23,
   "metadata": {},
   "outputs": [],
   "source": [
    "data = [\"101-044\", \"401-004\", \"106-002\", \"701-013\", \"704-003\", \"101-019\"]\n",
    "data.sort()\n",
    "\n",
    "import random\n",
    "from sklearn.model_selection import train_test_split\n",
    "ns = [2, 4]\n",
    "random.seed(42)\n",
    "string = \"\"\n",
    "for n in ns:\n",
    "    string += (\"[\\n\")\n",
    "    for fold in range(3):\n",
    "        string += (\"\\t{\\n\")\n",
    "        subset = random.sample(data, n)\n",
    "        train, val = train_test_split(subset, test_size=0.2, random_state=42)\n",
    "        string += (f\"\\t\\t\\\"train\\\": {train},\\n\")\n",
    "        string += (f\"\\t\\t\\\"val\\\": {val}\\n\")\n",
    "        string += (\"\\t},\\n\")\n",
    "    string += (\"]\\n\")\n",
    "    string = string.replace(\"\\'\", \"\\\"\")"
   ]
  },
  {
   "cell_type": "code",
   "execution_count": 24,
   "metadata": {},
   "outputs": [
    {
     "name": "stdout",
     "output_type": "stream",
     "text": [
      "[\n",
      "\t{\n",
      "\t\t\"train\": [\"704-003\"],\n",
      "\t\t\"val\": [\"101-019\"]\n",
      "\t},\n",
      "\t{\n",
      "\t\t\"train\": [\"101-019\"],\n",
      "\t\t\"val\": [\"106-002\"]\n",
      "\t},\n",
      "\t{\n",
      "\t\t\"train\": [\"101-044\"],\n",
      "\t\t\"val\": [\"704-003\"]\n",
      "\t},\n",
      "]\n",
      "[\n",
      "\t{\n",
      "\t\t\"train\": [\"106-002\", \"101-044\", \"701-013\"],\n",
      "\t\t\"val\": [\"101-019\"]\n",
      "\t},\n",
      "\t{\n",
      "\t\t\"train\": [\"704-003\", \"401-004\", \"701-013\"],\n",
      "\t\t\"val\": [\"101-019\"]\n",
      "\t},\n",
      "\t{\n",
      "\t\t\"train\": [\"106-002\", \"101-044\", \"101-019\"],\n",
      "\t\t\"val\": [\"704-003\"]\n",
      "\t},\n",
      "]\n",
      "\n"
     ]
    }
   ],
   "source": [
    "print(string)"
   ]
  }
 ],
 "metadata": {
  "kernelspec": {
   "display_name": "nnunet",
   "language": "python",
   "name": "python3"
  },
  "language_info": {
   "codemirror_mode": {
    "name": "ipython",
    "version": 3
   },
   "file_extension": ".py",
   "mimetype": "text/x-python",
   "name": "python",
   "nbconvert_exporter": "python",
   "pygments_lexer": "ipython3",
   "version": "3.9.19"
  }
 },
 "nbformat": 4,
 "nbformat_minor": 2
}
