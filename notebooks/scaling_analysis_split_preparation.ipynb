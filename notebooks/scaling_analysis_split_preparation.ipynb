{
 "cells": [
  {
   "cell_type": "markdown",
   "metadata": {},
   "source": [
    "# LaW_OCT"
   ]
  },
  {
   "cell_type": "code",
   "execution_count": 6,
   "metadata": {},
   "outputs": [
    {
     "name": "stdout",
     "output_type": "stream",
     "text": [
      "Total data 16\n",
      "5\n",
      "10\n",
      "[\n",
      "\t{\n",
      "\t\t\"train\": [\"KR_SNC_00008_Pre_PCI\", \"DK_AHU_00015_Pre_PCI\", \"BE_OLV_00028_Pre_PCI\", \"BE_OLV_00029_Pre_PCI\"],\n",
      "\t\t\"val\": [\"BE_OLV_00014_Pre_PCI\"]\n",
      "\t},\n",
      "\t{\n",
      "\t\t\"train\": [\"DK_AHU_00007_Pre_PCI\", \"DK_AHU_00015_Pre_PCI\", \"BE_OLV_00038_Pre_PCI\", \"BE_OLV_00018_Pre_PCI\"],\n",
      "\t\t\"val\": [\"BE_OLV_00020_Pre_PCI\"]\n",
      "\t},\n",
      "\t{\n",
      "\t\t\"train\": [\"DK_AHU_00018_Pre_PCI\", \"BE_OLV_00034_Pre_PCI\", \"BE_OLV_00020_Pre_PCI\", \"BE_OLV_00014_Pre_PCI\"],\n",
      "\t\t\"val\": [\"BE_OLV_00050_Pre_PCI\"]\n",
      "\t},\n",
      "]\n",
      "[\n",
      "\t{\n",
      "\t\t\"train\": [\"BE_OLV_00014_Pre_PCI\", \"BE_OLV_00020_Pre_PCI\", \"DK_AHU_00027_Pre_PCI\", \"JP_KOB_00009_Pre_PCI\", \"BE_OLV_00018_Pre_PCI\", \"BE_OLV_00050_Pre_PCI\", \"BE_OLV_00048_Pre_PCI\", \"DK_AHU_00018_Pre_PCI\"],\n",
      "\t\t\"val\": [\"BE_OLV_00034_Pre_PCI\", \"BE_OLV_00028_Pre_PCI\"]\n",
      "\t},\n",
      "\t{\n",
      "\t\t\"train\": [\"BE_OLV_00020_Pre_PCI\", \"JP_KOB_00009_Pre_PCI\", \"BE_OLV_00031_Pre_PCI\", \"BE_OLV_00029_Pre_PCI\", \"BE_OLV_00018_Pre_PCI\", \"BE_OLV_00014_Pre_PCI\", \"DK_AHU_00018_Pre_PCI\", \"BE_OLV_00034_Pre_PCI\"],\n",
      "\t\t\"val\": [\"DK_AHU_00027_Pre_PCI\", \"BE_OLV_00050_Pre_PCI\"]\n",
      "\t},\n",
      "\t{\n",
      "\t\t\"train\": [\"KR_SNC_00008_Pre_PCI\", \"BE_OLV_00034_Pre_PCI\", \"DK_AHU_00027_Pre_PCI\", \"BE_OLV_00031_Pre_PCI\", \"BE_OLV_00029_Pre_PCI\", \"JP_KOB_00009_Pre_PCI\", \"BE_OLV_00018_Pre_PCI\", \"DK_AHU_00015_Pre_PCI\"],\n",
      "\t\t\"val\": [\"BE_OLV_00048_Pre_PCI\", \"DK_AHU_00018_Pre_PCI\"]\n",
      "\t},\n",
      "]\n",
      "\n"
     ]
    }
   ],
   "source": [
    "data = ['BE_OLV_00034_Pre_PCI', 'BE_OLV_00028_Pre_PCI', 'BE_OLV_00050_Pre_PCI', 'BE_OLV_00018_Pre_PCI', 'JP_KOB_00009_Pre_PCI', 'DK_AHU_00027_Pre_PCI', 'DK_AHU_00015_Pre_PCI', 'BE_OLV_00014_Pre_PCI', 'BE_OLV_00038_Pre_PCI', 'KR_SNC_00008_Pre_PCI', 'BE_OLV_00020_Pre_PCI', 'DK_AHU_00007_Pre_PCI', 'BE_OLV_00031_Pre_PCI', 'BE_OLV_00048_Pre_PCI', 'DK_AHU_00018_Pre_PCI', 'BE_OLV_00029_Pre_PCI']\n",
    "data.sort()\n",
    "\n",
    "\n",
    "import random\n",
    "from sklearn.model_selection import train_test_split\n",
    "ns = [0.33, 0.66]\n",
    "random.seed(42)\n",
    "string = \"\"\n",
    "print(f'Total data {len(data)}')\n",
    "for n in ns:\n",
    "    n = int(len(data) * n)\n",
    "    print(n)\n",
    "    string += (\"[\\n\")\n",
    "    for fold in range(3):\n",
    "        string += (\"\\t{\\n\")\n",
    "        subset = random.sample(data, n)\n",
    "        train, val = train_test_split(subset, test_size=0.2, random_state=42)\n",
    "        string += (f\"\\t\\t\\\"train\\\": {train},\\n\")\n",
    "        string += (f\"\\t\\t\\\"val\\\": {val}\\n\")\n",
    "        string += (\"\\t},\\n\")\n",
    "    string += (\"]\\n\")\n",
    "    string = string.replace(\"\\'\", \"\\\"\")\n",
    "print(string)"
   ]
  },
  {
   "cell_type": "markdown",
   "metadata": {},
   "source": [
    "# Calcium OCT"
   ]
  },
  {
   "cell_type": "code",
   "execution_count": 23,
   "metadata": {},
   "outputs": [],
   "source": [
    "data = [\"101-044\", \"401-004\", \"106-002\", \"701-013\", \"704-003\", \"101-019\"]\n",
    "data.sort()\n",
    "\n",
    "import random\n",
    "from sklearn.model_selection import train_test_split\n",
    "ns = [2, 4]\n",
    "random.seed(42)\n",
    "string = \"\"\n",
    "for n in ns:\n",
    "    string += (\"[\\n\")\n",
    "    for fold in range(3):\n",
    "        string += (\"\\t{\\n\")\n",
    "        subset = random.sample(data, n)\n",
    "        train, val = train_test_split(subset, test_size=0.2, random_state=42)\n",
    "        string += (f\"\\t\\t\\\"train\\\": {train},\\n\")\n",
    "        string += (f\"\\t\\t\\\"val\\\": {val}\\n\")\n",
    "        string += (\"\\t},\\n\")\n",
    "    string += (\"]\\n\")\n",
    "    string = string.replace(\"\\'\", \"\\\"\")"
   ]
  },
  {
   "cell_type": "code",
   "execution_count": 24,
   "metadata": {},
   "outputs": [
    {
     "name": "stdout",
     "output_type": "stream",
     "text": [
      "[\n",
      "\t{\n",
      "\t\t\"train\": [\"704-003\"],\n",
      "\t\t\"val\": [\"101-019\"]\n",
      "\t},\n",
      "\t{\n",
      "\t\t\"train\": [\"101-019\"],\n",
      "\t\t\"val\": [\"106-002\"]\n",
      "\t},\n",
      "\t{\n",
      "\t\t\"train\": [\"101-044\"],\n",
      "\t\t\"val\": [\"704-003\"]\n",
      "\t},\n",
      "]\n",
      "[\n",
      "\t{\n",
      "\t\t\"train\": [\"106-002\", \"101-044\", \"701-013\"],\n",
      "\t\t\"val\": [\"101-019\"]\n",
      "\t},\n",
      "\t{\n",
      "\t\t\"train\": [\"704-003\", \"401-004\", \"701-013\"],\n",
      "\t\t\"val\": [\"101-019\"]\n",
      "\t},\n",
      "\t{\n",
      "\t\t\"train\": [\"106-002\", \"101-044\", \"101-019\"],\n",
      "\t\t\"val\": [\"704-003\"]\n",
      "\t},\n",
      "]\n",
      "\n"
     ]
    }
   ],
   "source": [
    "print(string)"
   ]
  }
 ],
 "metadata": {
  "kernelspec": {
   "display_name": "nnunet",
   "language": "python",
   "name": "python3"
  },
  "language_info": {
   "codemirror_mode": {
    "name": "ipython",
    "version": 3
   },
   "file_extension": ".py",
   "mimetype": "text/x-python",
   "name": "python",
   "nbconvert_exporter": "python",
   "pygments_lexer": "ipython3",
   "version": "3.9.19"
  }
 },
 "nbformat": 4,
 "nbformat_minor": 2
}
