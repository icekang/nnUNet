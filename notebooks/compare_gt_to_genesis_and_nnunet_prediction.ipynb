{
 "cells": [
  {
   "cell_type": "code",
   "execution_count": null,
   "metadata": {},
   "outputs": [],
   "source": [
    "import torchio as tio\n",
    "from pathlib import Path\n",
    "import matplotlib.animation as animation\n",
    "import matplotlib.pyplot as plt\n",
    "\n",
    "img = Path('/storage_bizon/naravich/3D_Shockwave/Image/')\n",
    "cal = Path('/storage_bizon/naravich/3D_Shockwave/Calcium/')\n",
    "img = sorted(list(img.glob('*.nii.gz')))\n",
    "cal = sorted(list(cal.glob('*.nii.gz')))\n",
    "subject_a = tio.Subject(\n",
    "    image=tio.ScalarImage(img[3]),\n",
    "    label=tio.LabelMap(cal[3]),\n",
    "    diagnosis='positive',\n",
    ")\n",
    "subject_a.plot()"
   ]
  },
  {
   "cell_type": "code",
   "execution_count": null,
   "metadata": {},
   "outputs": [],
   "source": [
    "import numpy as np\n",
    "img = np.load('/storage_bizon/naravich/nnUNet_Datasets/nnUNet_preprocessed/Dataset301_Calcium_OCT/nnUNetPlans_3d_fullres/101-019.npy')\n",
    "img = np.transpose(img, (0, 2, 3, 1))\n",
    "# img = img[np.newaxis,]\n",
    "img.shape"
   ]
  },
  {
   "cell_type": "code",
   "execution_count": null,
   "metadata": {},
   "outputs": [],
   "source": [
    "import torchio as tio\n",
    "\n",
    "subject_a = tio.Subject(\n",
    "    image=tio.ScalarImage(tensor=img),\n",
    "    genesis=tio.ScalarImage('/storage_bizon/naravich/nnUNet_Datasets/nnUNet_results/Dataset301_Calcium_OCT/GenesisTrainer__nnUNetPlans__3d_fullres/fold_1/validation/101-019.nii.gz'),\n",
    "    nnUnet=tio.ScalarImage('/storage_bizon/naravich/nnUNet_Datasets/nnUNet_results/Dataset301_Calcium_OCT/nnUNetTrainer__nnUNetPlans__3d_fullres/fold_1/validation/101-019.nii.gz'),\n",
    "    gt=tio.ScalarImage('/storage_bizon/naravich/nnUNet_Datasets/nnUNet_preprocessed/Dataset301_Calcium_OCT/gt_segmentations/101-019.nii.gz')\n",
    "\n",
    ")\n",
    "subject_a.plot()"
   ]
  },
  {
   "cell_type": "code",
   "execution_count": null,
   "metadata": {},
   "outputs": [],
   "source": [
    "image = subject_a.image.numpy()\n",
    "label = subject_a.label.numpy()"
   ]
  },
  {
   "cell_type": "code",
   "execution_count": null,
   "metadata": {},
   "outputs": [],
   "source": [
    "import numpy as np\n",
    "np.unique(label)"
   ]
  },
  {
   "cell_type": "code",
   "execution_count": null,
   "metadata": {},
   "outputs": [],
   "source": [
    "positives = []\n",
    "for i in range(label.shape[3]):\n",
    "    if label[0, :, :, i].sum() > 0:\n",
    "        positives.append(i) \n",
    "print(positives)"
   ]
  },
  {
   "cell_type": "code",
   "execution_count": null,
   "metadata": {},
   "outputs": [],
   "source": [
    "image = image[:, :, :, positives]\n",
    "label = label[:, :, :, positives]\n"
   ]
  },
  {
   "cell_type": "code",
   "execution_count": null,
   "metadata": {},
   "outputs": [],
   "source": [
    "fig, ax = plt.subplots(1, 2)\n",
    "im0 = ax[0].imshow(image[0][:, :, 0], animated=True, cmap='gray')\n",
    "im1 = ax[1].imshow(label[0][:, :, 0], animated=True, cmap='gray')\n",
    "\n",
    "def update(i):\n",
    "    im0.set_array(label[0][:, :, i])\n",
    "    im1.set_array(image[0][:, :, i])\n",
    "    return im1, \n",
    "\n",
    "# Create the animation object\n",
    "animation_fig = animation.FuncAnimation(fig, update, frames=label[0].shape[2], interval=1, blit=True,repeat_delay=10,)\n",
    "\n",
    "# Show the animation\n",
    "plt.show()\n",
    "\n",
    "animation_fig.save(\"step.gif\")"
   ]
  }
 ],
 "metadata": {
  "kernelspec": {
   "display_name": "nn_UNet",
   "language": "python",
   "name": "python3"
  },
  "language_info": {
   "codemirror_mode": {
    "name": "ipython",
    "version": 3
   },
   "file_extension": ".py",
   "mimetype": "text/x-python",
   "name": "python",
   "nbconvert_exporter": "python",
   "pygments_lexer": "ipython3",
   "version": "3.12.2"
  }
 },
 "nbformat": 4,
 "nbformat_minor": 2
}
