{
 "cells": [
  {
   "cell_type": "code",
   "execution_count": 12,
   "id": "90d70ecf-38a5-4dda-b1f4-566f2989cbba",
   "metadata": {},
   "outputs": [
    {
     "name": "stderr",
     "output_type": "stream",
     "text": [
      "100%|██████████| 4/4 [00:05<00:00,  1.43s/it]\n"
     ]
    }
   ],
   "source": [
    "from pathlib import Path\n",
    "import numpy as np\n",
    "import SimpleITK as sitk\n",
    "from tqdm import tqdm\n",
    "base_path = Path('/home/gridsan/nchutisilp/erelab_shared/nnUNet_Datasets/nnUNet_raw/Dataset305_LaW_Calcium_Lipid_OCT')\n",
    "label_ts = base_path / 'labelsTr'\n",
    "\n",
    "calcium_only_path = Path('/home/gridsan/nchutisilp/datasets/nnUNet_Datasets/nnUNet_raw/Dataset306_Sohee_Ajay_Calcium_OCT')\n",
    "calcium_only_path = calcium_only_path / 'labelsTr'\n",
    "calcium_only_path.mkdir(parents=True, exist_ok=True)\n",
    "\n",
    "for label_path in tqdm(list(label_ts.glob(\"*.nii.gz\"))):\n",
    "    # Read label to a numpy array\n",
    "    label = sitk.ReadImage(label_path)\n",
    "    label = sitk.GetArrayFromImage(label)\n",
    "    \n",
    "    label[label != 3] = 0\n",
    "    label[label == 3] = 1\n",
    "    \n",
    "    result_label = sitk.GetImageFromArray(label)\n",
    "    output_path = calcium_only_path / label_path.name\n",
    "    sitk.WriteImage(result_label, output_path)\n"
   ]
  },
  {
   "cell_type": "code",
   "execution_count": 13,
   "id": "4641ff05-afff-4060-96b5-cf111573e374",
   "metadata": {},
   "outputs": [
    {
     "name": "stderr",
     "output_type": "stream",
     "text": [
      "100%|██████████| 1/1 [00:02<00:00,  2.18s/it]\n"
     ]
    }
   ],
   "source": [
    "base_path = Path('/home/gridsan/nchutisilp/erelab_shared/nnUNet_Datasets/nnUNet_raw/Dataset305_LaW_Calcium_Lipid_OCT')\n",
    "label_ts = base_path / 'labelsTs'\n",
    "\n",
    "calcium_only_path = Path('/home/gridsan/nchutisilp/datasets/nnUNet_Datasets/nnUNet_raw/Dataset306_Sohee_Ajay_Calcium_OCT')\n",
    "calcium_only_path = calcium_only_path / 'labelsTs'\n",
    "calcium_only_path.mkdir(parents=True, exist_ok=True)\n",
    "\n",
    "for label_path in tqdm(list(label_ts.glob(\"*.nii.gz\"))):\n",
    "    # Read label to a numpy array\n",
    "    label = sitk.ReadImage(label_path)\n",
    "    label = sitk.GetArrayFromImage(label)\n",
    "    \n",
    "    label[label != 3] = 0\n",
    "    label[label == 3] = 1\n",
    "    \n",
    "    result_label = sitk.GetImageFromArray(label)\n",
    "    output_path = calcium_only_path / label_path.name\n",
    "    sitk.WriteImage(result_label, output_path)\n"
   ]
  },
  {
   "cell_type": "code",
   "execution_count": 6,
   "id": "c18cf17f-2bc0-4dd3-9870-e2103c84804c",
   "metadata": {},
   "outputs": [
    {
     "data": {
      "text/plain": [
       "(211, 500, 500)"
      ]
     },
     "execution_count": 6,
     "metadata": {},
     "output_type": "execute_result"
    }
   ],
   "source": [
    "import SimpleITK as sitk\n",
    "from pathlib import Path\n",
    "\n",
    "base = Path('/home/gridsan/nchutisilp/datasets/Shreya_Calcium_Hand_Segmentation_Check/')\n",
    "pred = base / 'Coreg_Patient_Raw_Flattened_Calcium_Prediction/HasLabels/Pause/03005Pre.nii.gz'\n",
    "pred = sitk.ReadImage(pred)\n",
    "pred = sitk.GetArrayFromImage(pred)\n",
    "pred.shape"
   ]
  },
  {
   "cell_type": "code",
   "execution_count": 7,
   "id": "99338beb-5a54-4938-b914-1f9fca73e2b6",
   "metadata": {},
   "outputs": [
    {
     "data": {
      "text/plain": [
       "(211, 500, 500)"
      ]
     },
     "execution_count": 7,
     "metadata": {},
     "output_type": "execute_result"
    }
   ],
   "source": [
    "image = base / 'Coreg_Patient_Raw_Flattened/03005Pre_0000.nii.gz'\n",
    "image = sitk.ReadImage(image)\n",
    "image = sitk.GetArrayFromImage(image)\n",
    "image.shape"
   ]
  },
  {
   "cell_type": "code",
   "execution_count": 18,
   "id": "932d8fa7-4e58-4c89-ae88-ebb4b205ba27",
   "metadata": {},
   "outputs": [
    {
     "data": {
      "text/plain": [
       "(213, 500, 500)"
      ]
     },
     "execution_count": 18,
     "metadata": {},
     "output_type": "execute_result"
    }
   ],
   "source": [
    "label = base / 'Coreg_Seg_Corrected_Calcium_Labels_Only/Pause/03005Pre.nii.gz'\n",
    "label_image = sitk.ReadImage(label)\n",
    "label = sitk.GetArrayFromImage(label_image)\n",
    "label.shape"
   ]
  },
  {
   "cell_type": "code",
   "execution_count": 20,
   "id": "b6af6396-1b67-4799-9a03-6cbcf175b2ef",
   "metadata": {},
   "outputs": [],
   "source": [
    "trimmed_label_array = label[:-2]\n",
    "\n",
    "# Convert the trimmed array back to an image\n",
    "trimmed_label = sitk.GetImageFromArray(trimmed_label_array)\n",
    "\n",
    "# Copy the original image's metadata (spacing, origin, direction)\n",
    "trimmed_label.SetSpacing(label_image.GetSpacing())\n",
    "trimmed_label.SetOrigin(label_image.GetOrigin())\n",
    "trimmed_label.SetDirection(label_image.GetDirection())\n",
    "\n",
    "# Save the trimmed image\n",
    "output_path = base / 'Coreg_Seg_Corrected_Calcium_Labels_Only/03005Pre.nii.gz'\n",
    "sitk.WriteImage(trimmed_label, str(output_path))"
   ]
  },
  {
   "cell_type": "code",
   "execution_count": 27,
   "id": "a55598b0-7ae9-416a-bcaa-9539037cd953",
   "metadata": {},
   "outputs": [
    {
     "name": "stderr",
     "output_type": "stream",
     "text": [
      "  0%|          | 0/10 [00:00<?, ?it/s]"
     ]
    },
    {
     "name": "stdout",
     "output_type": "stream",
     "text": [
      "03009Pre_LaW_Calcium_Lipid.nii.gz\n",
      "03005Pre_LaW_Calcium_sg.nii.gz\n"
     ]
    },
    {
     "name": "stderr",
     "output_type": "stream",
     "text": [
      "100%|██████████| 10/10 [00:00<00:00, 29.70it/s]"
     ]
    },
    {
     "name": "stdout",
     "output_type": "stream",
     "text": [
      "401004Pre_LaW_Calcium_Lipid.nii.gz\n",
      "708006Pre_LaW_Calcium_Lipid.nii.gz\n",
      "101009Pre_LaW_Calcium_Lipid.nii.gz\n",
      "04010Pre_LaW_Calcium_Lipid.nii.gz\n",
      "02008Pre_LaW_Calcium_Lipid.nii.gz\n",
      "02008Post_LaW_am.nii.gz\n",
      "03005Post_LaW_Calcium_sg.nii.gz\n"
     ]
    },
    {
     "name": "stderr",
     "output_type": "stream",
     "text": [
      "\n"
     ]
    }
   ],
   "source": [
    "from pathlib import Path\n",
    "import numpy as np\n",
    "import SimpleITK as sitk\n",
    "from tqdm import tqdm\n",
    "base_path = Path('/home/gridsan/nchutisilp/datasets/Shreya_Calcium_Hand_Segmentation_Check')\n",
    "label_ts = base_path / 'Coreg_Seg_Corrected'\n",
    "\n",
    "calcium_only_path = base_path\n",
    "calcium_only_path = calcium_only_path / 'Coreg_Seg_Corrected_Calcium_Labels_Only'\n",
    "calcium_only_path.mkdir(parents=True, exist_ok=True)\n",
    "\n",
    "for label_path in tqdm(list(label_ts.glob(\"*.nii.gz\"))):\n",
    "    # Read label to a numpy array\n",
    "    if not '02008Post_LaW_Calc_Lipid.nii.gz' in label_path.name:\n",
    "        print(label_path.name)\n",
    "        continue\n",
    "    label = sitk.ReadImage(label_path)\n",
    "    label = sitk.GetArrayFromImage(label)\n",
    "    \n",
    "    label[label != 3] = 0\n",
    "    label[label == 3] = 1\n",
    "    \n",
    "    result_label = sitk.GetImageFromArray(label)\n",
    "    output_path = calcium_only_path / label_path.name\n",
    "    sitk.WriteImage(result_label, output_path)\n"
   ]
  }
 ],
 "metadata": {
  "kernelspec": {
   "display_name": "Python [conda env:.conda-sam2]",
   "language": "python",
   "name": "conda-env-.conda-sam2-py"
  },
  "language_info": {
   "codemirror_mode": {
    "name": "ipython",
    "version": 3
   },
   "file_extension": ".py",
   "mimetype": "text/x-python",
   "name": "python",
   "nbconvert_exporter": "python",
   "pygments_lexer": "ipython3",
   "version": "3.12.5"
  }
 },
 "nbformat": 4,
 "nbformat_minor": 5
}
