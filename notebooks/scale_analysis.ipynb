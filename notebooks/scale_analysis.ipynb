{
 "cells": [
  {
   "cell_type": "code",
   "execution_count": null,
   "metadata": {},
   "outputs": [],
   "source": [
    "data_law = {\n",
    "    '33%': {'3D': [0.8903277991, 0.8653243533, 0.8908963776], '2D': [0.9426674075, 0.9225201256, 0.8994133068]},\n",
    "    '66%': {'3D': [0.8884417447, 0.8913144713, 0.8693588875], '2D': [0.9173638977, 0.9223807142, 0.9285820373]},\n",
    "    '100%': {'3D': [0.8915868125, 0.8774363704, 0.8876288098], '2D': [0.9180082899, 0.9197804068, 0.9079309538]}\n",
    "}\n",
    "data_lumen = {\n",
    "    '33%': {'3D': [0.8903277991, 0.8653243533, 0.8908963776], '2D': [0.9426674075, 0.9225201256, 0.8994133068]},\n",
    "    '66%': {'3D': [0.8884417447, 0.8913144713, 0.8693588875], '2D': [0.9173638977, 0.9223807142, 0.9285820373]},\n",
    "    '100%': {'3D': [0.8915868125, 0.8774363704, 0.8876288098], '2D': [0.9180082899, 0.9197804068, 0.9079309538]}\n",
    "}\n",
    "data_wall = {\n",
    "    '33%': {'3D': [0.7899438597, 0.7510292636, 0.7769474334], '2D': [0.7897927267, 0.7449655955, 0.7958867726]},\n",
    "    '66%': {'3D': [0.7923897316, 0.7869069825, 0.7980910829], '2D': [0.8110068513, 0.8039293395, 0.8037562567]},\n",
    "    '100%': {'3D': [0.792232793, 0.8123521295, 0.8054541528], '2D': [0.7986140261, 0.8014025431, 0.7983255289]}\n",
    "}"
   ]
  },
  {
   "cell_type": "code",
   "execution_count": null,
   "metadata": {},
   "outputs": [],
   "source": [
    "import matplotlib.pyplot as plt\n",
    "import numpy as np\n",
    "\n",
    "# Data\n",
    "data_calcium = {\n",
    "    '33%': {'3D': [0.4573563842, 0.497924104, 0.4331986283], '2D': [0.5904097331, 0.599537173, 0.4708737444]},\n",
    "    '66%': {'3D': [0.6254276412, 0.6415110632, 0.6818671376], '2D': [0.7324029096, 0.6023875434, 0.735082018]},\n",
    "    '100%': {'3D': [0.66924857, 0.6048997993, 0.7074629322], '2D': [0.7467109655, 0.7580196668, 0.755058326]}\n",
    "}\n",
    "\n",
    "data = data_calcium\n",
    "x = [33, 66, 100]\n",
    "y = {\n",
    "    '3D': [np.mean(data['33%']['3D']), np.mean(data['66%']['3D']), np.mean(data['100%']['3D'])],\n",
    "    '2D': [np.mean(data['33%']['2D']), np.mean(data['66%']['2D']), np.mean(data['100%']['2D'])]\n",
    "}\n",
    "yerr = {\n",
    "    '3D': [np.std(data['33%']['3D']), np.std(data['66%']['3D']), np.std(data['100%']['3D'])],\n",
    "    '2D': [np.std(data['33%']['2D']), np.std(data['66%']['2D']), np.std(data['100%']['2D'])]\n",
    "}\n",
    "\n",
    "# Plot\n",
    "fig, ax = plt.subplots()\n",
    "ax.errorbar(x, y['2D'], yerr=yerr['2D'], fmt='o-', label='2D')\n",
    "ax.errorbar(x, y['3D'], yerr=yerr['3D'], fmt='o-', label='3D')\n",
    "ax.set_xlabel('Percentage of training data')\n",
    "ax.set_ylabel('Dice Score')\n",
    "ax.set_xticks(x)\n",
    "ax.set_xticklabels(['33%', '66%', '100%'])\n",
    "ax.legend()\n",
    "ax.title.set_text('Calcium')\n",
    "plt.show()"
   ]
  }
 ],
 "metadata": {
  "kernelspec": {
   "display_name": "nnunet",
   "language": "python",
   "name": "python3"
  },
  "language_info": {
   "codemirror_mode": {
    "name": "ipython",
    "version": 3
   },
   "file_extension": ".py",
   "mimetype": "text/x-python",
   "name": "python",
   "nbconvert_exporter": "python",
   "pygments_lexer": "ipython3",
   "version": "3.9.19"
  }
 },
 "nbformat": 4,
 "nbformat_minor": 2
}
